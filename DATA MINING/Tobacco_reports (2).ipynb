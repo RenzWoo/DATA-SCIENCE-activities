{
 "cells": [
  {
   "cell_type": "markdown",
   "metadata": {
    "id": "o8eoQ91LvKIt"
   },
   "source": [
    "Alasan | Bernados | Macalam | Gaca | Tion | Torillo\n",
    "# Tobacco Reports\n",
    "**Adverse event reports related to tobacco products**"
   ]
  },
  {
   "cell_type": "code",
   "execution_count": 1,
   "metadata": {
    "id": "A7vJGBTHcvqo"
   },
   "outputs": [],
   "source": [
    "import pandas as pd\n",
    "import numpy as np\n",
    "import matplotlib.pyplot as plt\n",
    "import seaborn as sns\n",
    "import requests\n",
    "import json"
   ]
  },
  {
   "cell_type": "code",
   "execution_count": 2,
   "metadata": {
    "id": "qTkklJlnjVPr"
   },
   "outputs": [],
   "source": [
    "#url = 'https://raw.githubusercontent.com/RenzWoo/ALASAN/refs/heads/main/DATA%20MINING/tobacco-problem-0001-of-0001.json'\n",
    "#response = requests.get(url)\n",
    "#data = response.json()\n",
    "\n",
    "with open('tobacco-problem-0001-of-0001.json') as f:\n",
    "    data = json.load(f)"
   ]
  },
  {
   "cell_type": "code",
   "execution_count": 3,
   "metadata": {
    "colab": {
     "base_uri": "https://localhost:8080/",
     "height": 400
    },
    "id": "5VZSdzHokLvg",
    "outputId": "82a146a1-152f-4d01-c74f-9213cb352af6"
   },
   "outputs": [
    {
     "data": {
      "text/html": [
       "<div>\n",
       "<style scoped>\n",
       "    .dataframe tbody tr th:only-of-type {\n",
       "        vertical-align: middle;\n",
       "    }\n",
       "\n",
       "    .dataframe tbody tr th {\n",
       "        vertical-align: top;\n",
       "    }\n",
       "\n",
       "    .dataframe thead th {\n",
       "        text-align: right;\n",
       "    }\n",
       "</style>\n",
       "<table border=\"1\" class=\"dataframe\">\n",
       "  <thead>\n",
       "    <tr style=\"text-align: right;\">\n",
       "      <th></th>\n",
       "      <th>date_submitted</th>\n",
       "      <th>nonuser_affected</th>\n",
       "      <th>reported_health_problems</th>\n",
       "      <th>number_tobacco_products</th>\n",
       "      <th>report_id</th>\n",
       "      <th>number_health_problems</th>\n",
       "      <th>reported_product_problems</th>\n",
       "      <th>tobacco_products</th>\n",
       "      <th>number_product_problems</th>\n",
       "    </tr>\n",
       "  </thead>\n",
       "  <tbody>\n",
       "    <tr>\n",
       "      <th>0</th>\n",
       "      <td>08/09/2019</td>\n",
       "      <td>No</td>\n",
       "      <td>[Lip injury, Mouth injury, Nose injury, Bleedi...</td>\n",
       "      <td>1</td>\n",
       "      <td>944</td>\n",
       "      <td>9</td>\n",
       "      <td>[No information provided]</td>\n",
       "      <td>[Electronic cigarette, electronic nicotine or ...</td>\n",
       "      <td>0</td>\n",
       "    </tr>\n",
       "    <tr>\n",
       "      <th>1</th>\n",
       "      <td>08/09/2019</td>\n",
       "      <td>No</td>\n",
       "      <td>[Tonic-clonic seizures, Seizure cluster]</td>\n",
       "      <td>1</td>\n",
       "      <td>1199</td>\n",
       "      <td>2</td>\n",
       "      <td>[No information provided]</td>\n",
       "      <td>[Electronic cigarette, electronic nicotine or ...</td>\n",
       "      <td>0</td>\n",
       "    </tr>\n",
       "    <tr>\n",
       "      <th>2</th>\n",
       "      <td>08/08/2019</td>\n",
       "      <td>No</td>\n",
       "      <td>[Seizure]</td>\n",
       "      <td>1</td>\n",
       "      <td>923</td>\n",
       "      <td>1</td>\n",
       "      <td>[No information provided]</td>\n",
       "      <td>[Electronic cigarette, electronic nicotine or ...</td>\n",
       "      <td>0</td>\n",
       "    </tr>\n",
       "    <tr>\n",
       "      <th>3</th>\n",
       "      <td>07/25/2019</td>\n",
       "      <td>Yes</td>\n",
       "      <td>[Diarrhea, Burning eyes, Chest cold, Daydreami...</td>\n",
       "      <td>1</td>\n",
       "      <td>908</td>\n",
       "      <td>11</td>\n",
       "      <td>[No information provided]</td>\n",
       "      <td>[Electronic cigarette, electronic nicotine or ...</td>\n",
       "      <td>0</td>\n",
       "    </tr>\n",
       "    <tr>\n",
       "      <th>4</th>\n",
       "      <td>01/22/2017</td>\n",
       "      <td>No</td>\n",
       "      <td>[Chemical burn]</td>\n",
       "      <td>1</td>\n",
       "      <td>247</td>\n",
       "      <td>1</td>\n",
       "      <td>[Exploded, caught on fire, or burned abnormally]</td>\n",
       "      <td>[Electronic cigarette, electronic nicotine or ...</td>\n",
       "      <td>1</td>\n",
       "    </tr>\n",
       "  </tbody>\n",
       "</table>\n",
       "</div>"
      ],
      "text/plain": [
       "  date_submitted nonuser_affected  \\\n",
       "0     08/09/2019               No   \n",
       "1     08/09/2019               No   \n",
       "2     08/08/2019               No   \n",
       "3     07/25/2019              Yes   \n",
       "4     01/22/2017               No   \n",
       "\n",
       "                            reported_health_problems  number_tobacco_products  \\\n",
       "0  [Lip injury, Mouth injury, Nose injury, Bleedi...                        1   \n",
       "1           [Tonic-clonic seizures, Seizure cluster]                        1   \n",
       "2                                          [Seizure]                        1   \n",
       "3  [Diarrhea, Burning eyes, Chest cold, Daydreami...                        1   \n",
       "4                                    [Chemical burn]                        1   \n",
       "\n",
       "   report_id  number_health_problems  \\\n",
       "0        944                       9   \n",
       "1       1199                       2   \n",
       "2        923                       1   \n",
       "3        908                      11   \n",
       "4        247                       1   \n",
       "\n",
       "                          reported_product_problems  \\\n",
       "0                         [No information provided]   \n",
       "1                         [No information provided]   \n",
       "2                         [No information provided]   \n",
       "3                         [No information provided]   \n",
       "4  [Exploded, caught on fire, or burned abnormally]   \n",
       "\n",
       "                                    tobacco_products  number_product_problems  \n",
       "0  [Electronic cigarette, electronic nicotine or ...                        0  \n",
       "1  [Electronic cigarette, electronic nicotine or ...                        0  \n",
       "2  [Electronic cigarette, electronic nicotine or ...                        0  \n",
       "3  [Electronic cigarette, electronic nicotine or ...                        0  \n",
       "4  [Electronic cigarette, electronic nicotine or ...                        1  "
      ]
     },
     "execution_count": 3,
     "metadata": {},
     "output_type": "execute_result"
    }
   ],
   "source": [
    "df = pd.DataFrame(data['results'])[:1000]\n",
    "df.head()"
   ]
  },
  {
   "cell_type": "markdown",
   "metadata": {
    "id": "Yli9o_w5vDKc"
   },
   "source": [
    "**Raw summary**"
   ]
  },
  {
   "cell_type": "code",
   "execution_count": 4,
   "metadata": {
    "colab": {
     "base_uri": "https://localhost:8080/",
     "height": 300
    },
    "id": "J0ajQTHEtaBa",
    "outputId": "5cc24da0-ba22-4027-ec38-903ab52bf5db"
   },
   "outputs": [
    {
     "data": {
      "text/html": [
       "<div>\n",
       "<style scoped>\n",
       "    .dataframe tbody tr th:only-of-type {\n",
       "        vertical-align: middle;\n",
       "    }\n",
       "\n",
       "    .dataframe tbody tr th {\n",
       "        vertical-align: top;\n",
       "    }\n",
       "\n",
       "    .dataframe thead th {\n",
       "        text-align: right;\n",
       "    }\n",
       "</style>\n",
       "<table border=\"1\" class=\"dataframe\">\n",
       "  <thead>\n",
       "    <tr style=\"text-align: right;\">\n",
       "      <th></th>\n",
       "      <th>number_tobacco_products</th>\n",
       "      <th>report_id</th>\n",
       "      <th>number_health_problems</th>\n",
       "      <th>number_product_problems</th>\n",
       "    </tr>\n",
       "  </thead>\n",
       "  <tbody>\n",
       "    <tr>\n",
       "      <th>count</th>\n",
       "      <td>1000.000000</td>\n",
       "      <td>1.000000e+03</td>\n",
       "      <td>1000.00000</td>\n",
       "      <td>1000.000000</td>\n",
       "    </tr>\n",
       "    <tr>\n",
       "      <th>mean</th>\n",
       "      <td>1.043000</td>\n",
       "      <td>9.562482e+05</td>\n",
       "      <td>1.88200</td>\n",
       "      <td>0.899000</td>\n",
       "    </tr>\n",
       "    <tr>\n",
       "      <th>std</th>\n",
       "      <td>0.281479</td>\n",
       "      <td>1.050673e+06</td>\n",
       "      <td>2.54923</td>\n",
       "      <td>1.713399</td>\n",
       "    </tr>\n",
       "    <tr>\n",
       "      <th>min</th>\n",
       "      <td>1.000000</td>\n",
       "      <td>2.250000e+02</td>\n",
       "      <td>0.00000</td>\n",
       "      <td>0.000000</td>\n",
       "    </tr>\n",
       "    <tr>\n",
       "      <th>25%</th>\n",
       "      <td>1.000000</td>\n",
       "      <td>7.807500e+02</td>\n",
       "      <td>1.00000</td>\n",
       "      <td>0.000000</td>\n",
       "    </tr>\n",
       "    <tr>\n",
       "      <th>50%</th>\n",
       "      <td>1.000000</td>\n",
       "      <td>1.185500e+03</td>\n",
       "      <td>1.00000</td>\n",
       "      <td>0.000000</td>\n",
       "    </tr>\n",
       "    <tr>\n",
       "      <th>75%</th>\n",
       "      <td>1.000000</td>\n",
       "      <td>2.089348e+06</td>\n",
       "      <td>2.00000</td>\n",
       "      <td>1.000000</td>\n",
       "    </tr>\n",
       "    <tr>\n",
       "      <th>max</th>\n",
       "      <td>5.000000</td>\n",
       "      <td>2.179397e+06</td>\n",
       "      <td>40.00000</td>\n",
       "      <td>22.000000</td>\n",
       "    </tr>\n",
       "  </tbody>\n",
       "</table>\n",
       "</div>"
      ],
      "text/plain": [
       "       number_tobacco_products     report_id  number_health_problems  \\\n",
       "count              1000.000000  1.000000e+03              1000.00000   \n",
       "mean                  1.043000  9.562482e+05                 1.88200   \n",
       "std                   0.281479  1.050673e+06                 2.54923   \n",
       "min                   1.000000  2.250000e+02                 0.00000   \n",
       "25%                   1.000000  7.807500e+02                 1.00000   \n",
       "50%                   1.000000  1.185500e+03                 1.00000   \n",
       "75%                   1.000000  2.089348e+06                 2.00000   \n",
       "max                   5.000000  2.179397e+06                40.00000   \n",
       "\n",
       "       number_product_problems  \n",
       "count              1000.000000  \n",
       "mean                  0.899000  \n",
       "std                   1.713399  \n",
       "min                   0.000000  \n",
       "25%                   0.000000  \n",
       "50%                   0.000000  \n",
       "75%                   1.000000  \n",
       "max                  22.000000  "
      ]
     },
     "execution_count": 4,
     "metadata": {},
     "output_type": "execute_result"
    }
   ],
   "source": [
    "df.describe()"
   ]
  },
  {
   "cell_type": "code",
   "execution_count": 5,
   "metadata": {
    "colab": {
     "base_uri": "https://localhost:8080/"
    },
    "id": "c_VkVeNOtgd7",
    "outputId": "2c91c4fe-4b56-429c-9cc5-63497db5f932"
   },
   "outputs": [
    {
     "name": "stdout",
     "output_type": "stream",
     "text": [
      "<class 'pandas.core.frame.DataFrame'>\n",
      "RangeIndex: 1000 entries, 0 to 999\n",
      "Data columns (total 9 columns):\n",
      " #   Column                     Non-Null Count  Dtype \n",
      "---  ------                     --------------  ----- \n",
      " 0   date_submitted             1000 non-null   object\n",
      " 1   nonuser_affected           1000 non-null   object\n",
      " 2   reported_health_problems   1000 non-null   object\n",
      " 3   number_tobacco_products    1000 non-null   int64 \n",
      " 4   report_id                  1000 non-null   int64 \n",
      " 5   number_health_problems     1000 non-null   int64 \n",
      " 6   reported_product_problems  1000 non-null   object\n",
      " 7   tobacco_products           1000 non-null   object\n",
      " 8   number_product_problems    1000 non-null   int64 \n",
      "dtypes: int64(4), object(5)\n",
      "memory usage: 70.4+ KB\n"
     ]
    }
   ],
   "source": [
    "df.info()"
   ]
  },
  {
   "cell_type": "code",
   "execution_count": 6,
   "metadata": {
    "colab": {
     "base_uri": "https://localhost:8080/",
     "height": 366
    },
    "id": "icpgVm2LuXe4",
    "outputId": "281efbe5-d719-48e7-a05d-7a16ed5eebcc"
   },
   "outputs": [
    {
     "data": {
      "text/plain": [
       "date_submitted               0\n",
       "nonuser_affected             0\n",
       "reported_health_problems     0\n",
       "number_tobacco_products      0\n",
       "report_id                    0\n",
       "number_health_problems       0\n",
       "reported_product_problems    0\n",
       "tobacco_products             0\n",
       "number_product_problems      0\n",
       "dtype: int64"
      ]
     },
     "execution_count": 6,
     "metadata": {},
     "output_type": "execute_result"
    }
   ],
   "source": [
    "df.isna().sum()"
   ]
  },
  {
   "cell_type": "markdown",
   "metadata": {
    "id": "xrp-dcrUu1lr"
   },
   "source": [
    "# Checking unique values from categorical data"
   ]
  },
  {
   "cell_type": "code",
   "execution_count": 7,
   "metadata": {
    "colab": {
     "base_uri": "https://localhost:8080/"
    },
    "id": "TN-4FuHysmVm",
    "outputId": "1dba50d8-8adf-40f8-d6fc-8b7174cea57b"
   },
   "outputs": [
    {
     "data": {
      "text/plain": [
       "{'Neither', 'No', 'No information provided', 'Unknown', 'Yes'}"
      ]
     },
     "execution_count": 7,
     "metadata": {},
     "output_type": "execute_result"
    }
   ],
   "source": [
    "affected = set(i for i in df['nonuser_affected'])\n",
    "affected"
   ]
  },
  {
   "cell_type": "code",
   "execution_count": 8,
   "metadata": {
    "colab": {
     "base_uri": "https://localhost:8080/"
    },
    "id": "n1geI9nFYpPI",
    "outputId": "ca3e1277-6f5a-498a-af6d-bdb3b284daf4"
   },
   "outputs": [
    {
     "name": "stdout",
     "output_type": "stream",
     "text": [
      "Number of Unique values:  833\n"
     ]
    }
   ],
   "source": [
    "health_problems = set(j for i in df['reported_health_problems'] for j in i)\n",
    "print(\"Number of Unique values: \", len(health_problems))\n",
    "#print(health_problems)"
   ]
  },
  {
   "cell_type": "code",
   "execution_count": 9,
   "metadata": {
    "colab": {
     "base_uri": "https://localhost:8080/"
    },
    "id": "YJ7u0-ezw3oY",
    "outputId": "63cac11b-a7f5-4da7-8ad2-050d096eff38"
   },
   "outputs": [
    {
     "name": "stdout",
     "output_type": "stream",
     "text": [
      "Number of Unique values:  33\n"
     ]
    }
   ],
   "source": [
    "product_problems = set(j for i in df['reported_product_problems'] for j in i)\n",
    "print(\"Number of Unique values: \", len(product_problems))\n",
    "#print(product_problems)"
   ]
  },
  {
   "cell_type": "code",
   "execution_count": 10,
   "metadata": {
    "colab": {
     "base_uri": "https://localhost:8080/"
    },
    "id": "UMElfU-vxOnS",
    "outputId": "d85eae81-5019-41d2-aab1-2c2e2068d107"
   },
   "outputs": [
    {
     "name": "stdout",
     "output_type": "stream",
     "text": [
      "Number of Unique values:  26\n"
     ]
    }
   ],
   "source": [
    "tobacco_products = set(j for i in df['tobacco_products'] for j in i)\n",
    "print(\"Number of Unique values: \", len(tobacco_products))\n",
    "#print(tobacco_products)"
   ]
  },
  {
   "cell_type": "markdown",
   "metadata": {
    "id": "SANwrPoHZdlI"
   },
   "source": [
    "# Type casting & Missing value handling"
   ]
  },
  {
   "cell_type": "code",
   "execution_count": 11,
   "metadata": {
    "id": "6RSF_7Pb0i2Q"
   },
   "outputs": [],
   "source": [
    "df['date_submitted'] = pd.to_datetime(df['date_submitted'])"
   ]
  },
  {
   "cell_type": "code",
   "execution_count": 12,
   "metadata": {
    "id": "iP-YAKvwZ9rk"
   },
   "outputs": [],
   "source": [
    "df['nonuser_affected'] = df['nonuser_affected'].apply(lambda x: None if x == 'No information provided' else x)"
   ]
  },
  {
   "cell_type": "code",
   "execution_count": 13,
   "metadata": {
    "id": "D7PK0Q7uc9hH"
   },
   "outputs": [],
   "source": [
    "df['reported_health_problems'] = df['reported_health_problems'].apply(lambda x: None if x == ['No information provided'] else x)"
   ]
  },
  {
   "cell_type": "code",
   "execution_count": 14,
   "metadata": {
    "id": "6oNbVegvdXEB"
   },
   "outputs": [],
   "source": [
    "df['reported_product_problems'] = df['reported_product_problems'].apply(lambda x: None if x == ['No information provided'] else x)"
   ]
  },
  {
   "cell_type": "code",
   "execution_count": 15,
   "metadata": {
    "colab": {
     "base_uri": "https://localhost:8080/",
     "height": 366
    },
    "id": "A_ukz1g_d-hN",
    "outputId": "9005dd51-bea4-4bfd-d3bf-cbb23fd28b65"
   },
   "outputs": [
    {
     "data": {
      "text/plain": [
       "date_submitted                 0\n",
       "nonuser_affected              99\n",
       "reported_health_problems     181\n",
       "number_tobacco_products        0\n",
       "report_id                      0\n",
       "number_health_problems         0\n",
       "reported_product_problems    588\n",
       "tobacco_products               0\n",
       "number_product_problems        0\n",
       "dtype: int64"
      ]
     },
     "execution_count": 15,
     "metadata": {},
     "output_type": "execute_result"
    }
   ],
   "source": [
    "df.isna().sum()"
   ]
  },
  {
   "cell_type": "markdown",
   "metadata": {
    "id": "zoeqyNQ00f32"
   },
   "source": [
    "The raw values in columns like reported_health_problems, reported_product_problems, and tobacco_products are often inconsistent, unstructured, or contain multiple issues grouped together. By cleaning the text, we remove irregularities such as missing values or placeholder entries (e.g., “No information provided”)."
   ]
  },
  {
   "cell_type": "markdown",
   "metadata": {
    "id": "grO-wM-45PeR"
   },
   "source": [
    "# Text Cleaning & Feature Engineering"
   ]
  },
  {
   "cell_type": "markdown",
   "metadata": {
    "id": "0dxzMZqE07U4"
   },
   "source": [
    "Normalization makes sure similar issues written in different ways are treated the same, turning messy text into structured features that can be counted, encoded, and analyzed effectively."
   ]
  },
  {
   "cell_type": "code",
   "execution_count": 16,
   "metadata": {
    "id": "J0xMShzRYpPJ"
   },
   "outputs": [],
   "source": [
    "def categorize_data(instance, common_words):\n",
    "    for category, keywords in common_words.items():\n",
    "        if any(kw in instance.lower() for kw in keywords):\n",
    "            return category\n",
    "    return \"other\""
   ]
  },
  {
   "cell_type": "markdown",
   "metadata": {
    "id": "aoVCtpj4YpPJ"
   },
   "source": [
    "## Reported health problems [List of strings]"
   ]
  },
  {
   "cell_type": "code",
   "execution_count": 17,
   "metadata": {
    "id": "rQmZypObYpPJ"
   },
   "outputs": [],
   "source": [
    "# mapping\n",
    "key_health_problems = {\n",
    "    \"respiratory_problem\": [\"cough\", \"lung\", \"breath\", \"pneumonia\", \"respiratory\", \"asthma\", \"dyspnea\"],\n",
    "    \"neurological_problem\": [\"seizure\", \"headache\", \"migraine\", \"epilepsy\", \"convulsion\", \"tremor\", \"memory\"],\n",
    "    \"cardiac_problem\": [\"chest\", \"heart\", \"tachycardia\", \"hypertension\", \"arrhythmia\", \"stroke\"],\n",
    "    \"psychiatric_problem\": [\"anxiety\", \"depression\", \"hallucination\", \"behavior\", \"mood\", \"suicid\"],\n",
    "    \"skin_burn_problem\": [\"burn\", \"lesion\", \"rash\", \"blister\", \"eczema\"],\n",
    "    \"digestive_problem\": [\"abdominal\", \"vomit\", \"diarrhea\", \"stomach\", \"pancreatitis\"],\n",
    "    \"general_problem\": [\"injury\", \"pain\", \"fatigue\", \"infection\", \"illness\", \"hospital\"],\n",
    "    \"other\": [\"other\"]\n",
    "}\n",
    "\n",
    "df[\"reported_health_problems\"] = df[\"reported_health_problems\"].apply(\n",
    "    lambda issues: {categorize_data(i, key_health_problems) for i in issues} if isinstance(issues, list) else set()\n",
    ")"
   ]
  },
  {
   "cell_type": "markdown",
   "metadata": {
    "id": "gnNMJkW2YpPJ"
   },
   "source": [
    "## Reported product problems [List of strings]"
   ]
  },
  {
   "cell_type": "code",
   "execution_count": 18,
   "metadata": {
    "id": "FBrBv_f5ylMf"
   },
   "outputs": [],
   "source": [
    "# mapping\n",
    "key_product_problems = {\n",
    "    \"fire_explosion\": [\"exploded\", \"fire\", \"burned\", \"overheated\"],\n",
    "    \"damage\": [\"damaged\", \"broken\", \"defective\"],\n",
    "    \"smell_taste\": [\"smell\", \"taste\", \"appearance\"],\n",
    "    \"label_instruction\": [\"label\", \"instruction\"],\n",
    "    \"safety\": [\"child safety\"],\n",
    "    \"quantity\": [\"wrong number\", \"wrong product\", \"leaked\", \"spilled\"],\n",
    "    \"hard_to_use\": [\"hard to open\", \"hard to use\"],\n",
    "    \"foreign_material\": [\"foreign material\"],\n",
    "    \"other\": [\"other\"]\n",
    "}"
   ]
  },
  {
   "cell_type": "code",
   "execution_count": 19,
   "metadata": {
    "id": "O-RtY0Fc0n8s"
   },
   "outputs": [],
   "source": [
    "df[\"reported_product_problems\"] = df[\"reported_product_problems\"].apply(\n",
    "    lambda issues: {categorize_data(i, key_product_problems) for i in issues} if isinstance(issues, list) else set()\n",
    ")"
   ]
  },
  {
   "cell_type": "markdown",
   "metadata": {
    "id": "noaHbFRwYpPK"
   },
   "source": [
    "## Tobacco products [List of strings]"
   ]
  },
  {
   "cell_type": "code",
   "execution_count": 20,
   "metadata": {
    "id": "Z-6o5NdNYpPK"
   },
   "outputs": [],
   "source": [
    "# mapping\n",
    "key_product_problems = {\n",
    "    'electronic_cigarette': ['electronic', 'vape', 'e-', 'pen'],\n",
    "    'cigarette': ['cigarette', 'cigar'],\n",
    "    'other':['other','tobacco-free'],\n",
    "    'tobacco':['tobacco', 'chewing', 'snuff']\n",
    "}"
   ]
  },
  {
   "cell_type": "code",
   "execution_count": 21,
   "metadata": {
    "id": "7GzqbGh0YpPK"
   },
   "outputs": [],
   "source": [
    "df[\"tobacco_products\"] = df[\"tobacco_products\"].apply(\n",
    "    lambda issues: {categorize_data(i,key_product_problems) for i in issues} if isinstance(issues, list) else set()\n",
    ")"
   ]
  },
  {
   "cell_type": "code",
   "execution_count": 22,
   "metadata": {
    "colab": {
     "base_uri": "https://localhost:8080/",
     "height": 496
    },
    "id": "IvFfM5TKYpPK",
    "outputId": "47bb7d5e-3b24-493b-c5fd-f64c88c3c13a"
   },
   "outputs": [
    {
     "data": {
      "text/html": [
       "<div>\n",
       "<style scoped>\n",
       "    .dataframe tbody tr th:only-of-type {\n",
       "        vertical-align: middle;\n",
       "    }\n",
       "\n",
       "    .dataframe tbody tr th {\n",
       "        vertical-align: top;\n",
       "    }\n",
       "\n",
       "    .dataframe thead th {\n",
       "        text-align: right;\n",
       "    }\n",
       "</style>\n",
       "<table border=\"1\" class=\"dataframe\">\n",
       "  <thead>\n",
       "    <tr style=\"text-align: right;\">\n",
       "      <th></th>\n",
       "      <th>date_submitted</th>\n",
       "      <th>nonuser_affected</th>\n",
       "      <th>reported_health_problems</th>\n",
       "      <th>number_tobacco_products</th>\n",
       "      <th>report_id</th>\n",
       "      <th>number_health_problems</th>\n",
       "      <th>reported_product_problems</th>\n",
       "      <th>tobacco_products</th>\n",
       "      <th>number_product_problems</th>\n",
       "    </tr>\n",
       "  </thead>\n",
       "  <tbody>\n",
       "    <tr>\n",
       "      <th>0</th>\n",
       "      <td>2019-08-09</td>\n",
       "      <td>No</td>\n",
       "      <td>{other, general_problem}</td>\n",
       "      <td>1</td>\n",
       "      <td>944</td>\n",
       "      <td>9</td>\n",
       "      <td>{}</td>\n",
       "      <td>{electronic_cigarette}</td>\n",
       "      <td>0</td>\n",
       "    </tr>\n",
       "    <tr>\n",
       "      <th>1</th>\n",
       "      <td>2019-08-09</td>\n",
       "      <td>No</td>\n",
       "      <td>{neurological_problem}</td>\n",
       "      <td>1</td>\n",
       "      <td>1199</td>\n",
       "      <td>2</td>\n",
       "      <td>{}</td>\n",
       "      <td>{electronic_cigarette}</td>\n",
       "      <td>0</td>\n",
       "    </tr>\n",
       "    <tr>\n",
       "      <th>2</th>\n",
       "      <td>2019-08-08</td>\n",
       "      <td>No</td>\n",
       "      <td>{neurological_problem}</td>\n",
       "      <td>1</td>\n",
       "      <td>923</td>\n",
       "      <td>1</td>\n",
       "      <td>{}</td>\n",
       "      <td>{electronic_cigarette}</td>\n",
       "      <td>0</td>\n",
       "    </tr>\n",
       "    <tr>\n",
       "      <th>3</th>\n",
       "      <td>2019-07-25</td>\n",
       "      <td>Yes</td>\n",
       "      <td>{skin_burn_problem, cardiac_problem, other, di...</td>\n",
       "      <td>1</td>\n",
       "      <td>908</td>\n",
       "      <td>11</td>\n",
       "      <td>{}</td>\n",
       "      <td>{electronic_cigarette}</td>\n",
       "      <td>0</td>\n",
       "    </tr>\n",
       "    <tr>\n",
       "      <th>4</th>\n",
       "      <td>2017-01-22</td>\n",
       "      <td>No</td>\n",
       "      <td>{skin_burn_problem}</td>\n",
       "      <td>1</td>\n",
       "      <td>247</td>\n",
       "      <td>1</td>\n",
       "      <td>{fire_explosion}</td>\n",
       "      <td>{electronic_cigarette}</td>\n",
       "      <td>1</td>\n",
       "    </tr>\n",
       "    <tr>\n",
       "      <th>...</th>\n",
       "      <td>...</td>\n",
       "      <td>...</td>\n",
       "      <td>...</td>\n",
       "      <td>...</td>\n",
       "      <td>...</td>\n",
       "      <td>...</td>\n",
       "      <td>...</td>\n",
       "      <td>...</td>\n",
       "      <td>...</td>\n",
       "    </tr>\n",
       "    <tr>\n",
       "      <th>995</th>\n",
       "      <td>2019-11-06</td>\n",
       "      <td>No</td>\n",
       "      <td>{cardiac_problem, respiratory_problem, other}</td>\n",
       "      <td>2</td>\n",
       "      <td>2076566</td>\n",
       "      <td>10</td>\n",
       "      <td>{}</td>\n",
       "      <td>{electronic_cigarette, other}</td>\n",
       "      <td>0</td>\n",
       "    </tr>\n",
       "    <tr>\n",
       "      <th>996</th>\n",
       "      <td>2017-04-20</td>\n",
       "      <td>None</td>\n",
       "      <td>{}</td>\n",
       "      <td>1</td>\n",
       "      <td>321</td>\n",
       "      <td>0</td>\n",
       "      <td>{foreign_material, label_instruction}</td>\n",
       "      <td>{electronic_cigarette}</td>\n",
       "      <td>2</td>\n",
       "    </tr>\n",
       "    <tr>\n",
       "      <th>997</th>\n",
       "      <td>2019-11-02</td>\n",
       "      <td>No</td>\n",
       "      <td>{respiratory_problem}</td>\n",
       "      <td>1</td>\n",
       "      <td>2076369</td>\n",
       "      <td>1</td>\n",
       "      <td>{}</td>\n",
       "      <td>{electronic_cigarette}</td>\n",
       "      <td>0</td>\n",
       "    </tr>\n",
       "    <tr>\n",
       "      <th>998</th>\n",
       "      <td>2017-04-25</td>\n",
       "      <td>None</td>\n",
       "      <td>{}</td>\n",
       "      <td>1</td>\n",
       "      <td>322</td>\n",
       "      <td>0</td>\n",
       "      <td>{other, fire_explosion}</td>\n",
       "      <td>{electronic_cigarette}</td>\n",
       "      <td>2</td>\n",
       "    </tr>\n",
       "    <tr>\n",
       "      <th>999</th>\n",
       "      <td>2019-10-24</td>\n",
       "      <td>No</td>\n",
       "      <td>{neurological_problem}</td>\n",
       "      <td>1</td>\n",
       "      <td>2075988</td>\n",
       "      <td>1</td>\n",
       "      <td>{}</td>\n",
       "      <td>{electronic_cigarette}</td>\n",
       "      <td>0</td>\n",
       "    </tr>\n",
       "  </tbody>\n",
       "</table>\n",
       "<p>1000 rows × 9 columns</p>\n",
       "</div>"
      ],
      "text/plain": [
       "    date_submitted nonuser_affected  \\\n",
       "0       2019-08-09               No   \n",
       "1       2019-08-09               No   \n",
       "2       2019-08-08               No   \n",
       "3       2019-07-25              Yes   \n",
       "4       2017-01-22               No   \n",
       "..             ...              ...   \n",
       "995     2019-11-06               No   \n",
       "996     2017-04-20             None   \n",
       "997     2019-11-02               No   \n",
       "998     2017-04-25             None   \n",
       "999     2019-10-24               No   \n",
       "\n",
       "                              reported_health_problems  \\\n",
       "0                             {other, general_problem}   \n",
       "1                               {neurological_problem}   \n",
       "2                               {neurological_problem}   \n",
       "3    {skin_burn_problem, cardiac_problem, other, di...   \n",
       "4                                  {skin_burn_problem}   \n",
       "..                                                 ...   \n",
       "995      {cardiac_problem, respiratory_problem, other}   \n",
       "996                                                 {}   \n",
       "997                              {respiratory_problem}   \n",
       "998                                                 {}   \n",
       "999                             {neurological_problem}   \n",
       "\n",
       "     number_tobacco_products  report_id  number_health_problems  \\\n",
       "0                          1        944                       9   \n",
       "1                          1       1199                       2   \n",
       "2                          1        923                       1   \n",
       "3                          1        908                      11   \n",
       "4                          1        247                       1   \n",
       "..                       ...        ...                     ...   \n",
       "995                        2    2076566                      10   \n",
       "996                        1        321                       0   \n",
       "997                        1    2076369                       1   \n",
       "998                        1        322                       0   \n",
       "999                        1    2075988                       1   \n",
       "\n",
       "                 reported_product_problems               tobacco_products  \\\n",
       "0                                       {}         {electronic_cigarette}   \n",
       "1                                       {}         {electronic_cigarette}   \n",
       "2                                       {}         {electronic_cigarette}   \n",
       "3                                       {}         {electronic_cigarette}   \n",
       "4                         {fire_explosion}         {electronic_cigarette}   \n",
       "..                                     ...                            ...   \n",
       "995                                     {}  {electronic_cigarette, other}   \n",
       "996  {foreign_material, label_instruction}         {electronic_cigarette}   \n",
       "997                                     {}         {electronic_cigarette}   \n",
       "998                {other, fire_explosion}         {electronic_cigarette}   \n",
       "999                                     {}         {electronic_cigarette}   \n",
       "\n",
       "     number_product_problems  \n",
       "0                          0  \n",
       "1                          0  \n",
       "2                          0  \n",
       "3                          0  \n",
       "4                          1  \n",
       "..                       ...  \n",
       "995                        0  \n",
       "996                        2  \n",
       "997                        0  \n",
       "998                        2  \n",
       "999                        0  \n",
       "\n",
       "[1000 rows x 9 columns]"
      ]
     },
     "execution_count": 22,
     "metadata": {},
     "output_type": "execute_result"
    }
   ],
   "source": [
    "df"
   ]
  },
  {
   "cell_type": "markdown",
   "metadata": {
    "id": "RsuCtZo8YpPK"
   },
   "source": [
    "# Multi-label Binarization"
   ]
  },
  {
   "cell_type": "markdown",
   "metadata": {
    "id": "6dMOkxnd1jZz"
   },
   "source": [
    "MultiLabelBinarizer (MLB) technique to handle columns where each record can have multiple categories (e.g., several health problems or products). This technique converts the list-like entries into binary indicator columns (one-hot encoding), making it possible to represent each unique problem or product as a separate feature."
   ]
  },
  {
   "cell_type": "code",
   "execution_count": 23,
   "metadata": {
    "id": "n5Epg0-f1_8d"
   },
   "outputs": [],
   "source": [
    "import pandas as pd\n",
    "\n",
    "def multilabel_encoder(df, column):\n",
    "    clean_values = df[column].apply(lambda x: x if isinstance(x, (set,list)) else ([x] if pd.notna(x) else []))\n",
    "\n",
    "    unique_labels = sorted({label for sublist in clean_values for label in sublist})\n",
    "\n",
    "    encoded = pd.DataFrame([[1 if label in row else 0 for label in unique_labels] for row in clean_values],\n",
    "        columns=unique_labels)\n",
    "\n",
    "    df_encoded = pd.concat([df[[\"report_id\"]].reset_index(drop=True), encoded], axis=1)\n",
    "\n",
    "    return df_encoded"
   ]
  },
  {
   "cell_type": "code",
   "execution_count": 24,
   "metadata": {
    "colab": {
     "base_uri": "https://localhost:8080/",
     "height": 423
    },
    "id": "8d36edTxcRPm",
    "outputId": "c52aa117-a11f-4c76-b223-d1c568b015f8"
   },
   "outputs": [
    {
     "data": {
      "text/html": [
       "<div>\n",
       "<style scoped>\n",
       "    .dataframe tbody tr th:only-of-type {\n",
       "        vertical-align: middle;\n",
       "    }\n",
       "\n",
       "    .dataframe tbody tr th {\n",
       "        vertical-align: top;\n",
       "    }\n",
       "\n",
       "    .dataframe thead th {\n",
       "        text-align: right;\n",
       "    }\n",
       "</style>\n",
       "<table border=\"1\" class=\"dataframe\">\n",
       "  <thead>\n",
       "    <tr style=\"text-align: right;\">\n",
       "      <th></th>\n",
       "      <th>report_id</th>\n",
       "      <th>Neither</th>\n",
       "      <th>No</th>\n",
       "      <th>Unknown</th>\n",
       "      <th>Yes</th>\n",
       "    </tr>\n",
       "  </thead>\n",
       "  <tbody>\n",
       "    <tr>\n",
       "      <th>0</th>\n",
       "      <td>944</td>\n",
       "      <td>0</td>\n",
       "      <td>1</td>\n",
       "      <td>0</td>\n",
       "      <td>0</td>\n",
       "    </tr>\n",
       "    <tr>\n",
       "      <th>1</th>\n",
       "      <td>1199</td>\n",
       "      <td>0</td>\n",
       "      <td>1</td>\n",
       "      <td>0</td>\n",
       "      <td>0</td>\n",
       "    </tr>\n",
       "    <tr>\n",
       "      <th>2</th>\n",
       "      <td>923</td>\n",
       "      <td>0</td>\n",
       "      <td>1</td>\n",
       "      <td>0</td>\n",
       "      <td>0</td>\n",
       "    </tr>\n",
       "    <tr>\n",
       "      <th>3</th>\n",
       "      <td>908</td>\n",
       "      <td>0</td>\n",
       "      <td>0</td>\n",
       "      <td>0</td>\n",
       "      <td>1</td>\n",
       "    </tr>\n",
       "    <tr>\n",
       "      <th>4</th>\n",
       "      <td>247</td>\n",
       "      <td>0</td>\n",
       "      <td>1</td>\n",
       "      <td>0</td>\n",
       "      <td>0</td>\n",
       "    </tr>\n",
       "    <tr>\n",
       "      <th>...</th>\n",
       "      <td>...</td>\n",
       "      <td>...</td>\n",
       "      <td>...</td>\n",
       "      <td>...</td>\n",
       "      <td>...</td>\n",
       "    </tr>\n",
       "    <tr>\n",
       "      <th>995</th>\n",
       "      <td>2076566</td>\n",
       "      <td>0</td>\n",
       "      <td>1</td>\n",
       "      <td>0</td>\n",
       "      <td>0</td>\n",
       "    </tr>\n",
       "    <tr>\n",
       "      <th>996</th>\n",
       "      <td>321</td>\n",
       "      <td>0</td>\n",
       "      <td>0</td>\n",
       "      <td>0</td>\n",
       "      <td>0</td>\n",
       "    </tr>\n",
       "    <tr>\n",
       "      <th>997</th>\n",
       "      <td>2076369</td>\n",
       "      <td>0</td>\n",
       "      <td>1</td>\n",
       "      <td>0</td>\n",
       "      <td>0</td>\n",
       "    </tr>\n",
       "    <tr>\n",
       "      <th>998</th>\n",
       "      <td>322</td>\n",
       "      <td>0</td>\n",
       "      <td>0</td>\n",
       "      <td>0</td>\n",
       "      <td>0</td>\n",
       "    </tr>\n",
       "    <tr>\n",
       "      <th>999</th>\n",
       "      <td>2075988</td>\n",
       "      <td>0</td>\n",
       "      <td>1</td>\n",
       "      <td>0</td>\n",
       "      <td>0</td>\n",
       "    </tr>\n",
       "  </tbody>\n",
       "</table>\n",
       "<p>1000 rows × 5 columns</p>\n",
       "</div>"
      ],
      "text/plain": [
       "     report_id  Neither  No  Unknown  Yes\n",
       "0          944        0   1        0    0\n",
       "1         1199        0   1        0    0\n",
       "2          923        0   1        0    0\n",
       "3          908        0   0        0    1\n",
       "4          247        0   1        0    0\n",
       "..         ...      ...  ..      ...  ...\n",
       "995    2076566        0   1        0    0\n",
       "996        321        0   0        0    0\n",
       "997    2076369        0   1        0    0\n",
       "998        322        0   0        0    0\n",
       "999    2075988        0   1        0    0\n",
       "\n",
       "[1000 rows x 5 columns]"
      ]
     },
     "execution_count": 24,
     "metadata": {},
     "output_type": "execute_result"
    }
   ],
   "source": [
    "multilabel_encoder(df, 'nonuser_affected')"
   ]
  },
  {
   "cell_type": "markdown",
   "metadata": {
    "id": "2NYyhtLaYpPK"
   },
   "source": [
    "## Non_affected_df"
   ]
  },
  {
   "cell_type": "code",
   "execution_count": 25,
   "metadata": {
    "colab": {
     "base_uri": "https://localhost:8080/",
     "height": 206
    },
    "id": "M4tAEj5rYpPK",
    "outputId": "948a77bd-2eba-4a77-c272-97846469c385"
   },
   "outputs": [
    {
     "data": {
      "text/html": [
       "<div>\n",
       "<style scoped>\n",
       "    .dataframe tbody tr th:only-of-type {\n",
       "        vertical-align: middle;\n",
       "    }\n",
       "\n",
       "    .dataframe tbody tr th {\n",
       "        vertical-align: top;\n",
       "    }\n",
       "\n",
       "    .dataframe thead th {\n",
       "        text-align: right;\n",
       "    }\n",
       "</style>\n",
       "<table border=\"1\" class=\"dataframe\">\n",
       "  <thead>\n",
       "    <tr style=\"text-align: right;\">\n",
       "      <th></th>\n",
       "      <th>report_id</th>\n",
       "      <th>Neither</th>\n",
       "      <th>No</th>\n",
       "      <th>Unknown</th>\n",
       "      <th>Yes</th>\n",
       "    </tr>\n",
       "  </thead>\n",
       "  <tbody>\n",
       "    <tr>\n",
       "      <th>0</th>\n",
       "      <td>944</td>\n",
       "      <td>0</td>\n",
       "      <td>1</td>\n",
       "      <td>0</td>\n",
       "      <td>0</td>\n",
       "    </tr>\n",
       "    <tr>\n",
       "      <th>1</th>\n",
       "      <td>1199</td>\n",
       "      <td>0</td>\n",
       "      <td>1</td>\n",
       "      <td>0</td>\n",
       "      <td>0</td>\n",
       "    </tr>\n",
       "    <tr>\n",
       "      <th>2</th>\n",
       "      <td>923</td>\n",
       "      <td>0</td>\n",
       "      <td>1</td>\n",
       "      <td>0</td>\n",
       "      <td>0</td>\n",
       "    </tr>\n",
       "    <tr>\n",
       "      <th>3</th>\n",
       "      <td>908</td>\n",
       "      <td>0</td>\n",
       "      <td>0</td>\n",
       "      <td>0</td>\n",
       "      <td>1</td>\n",
       "    </tr>\n",
       "    <tr>\n",
       "      <th>4</th>\n",
       "      <td>247</td>\n",
       "      <td>0</td>\n",
       "      <td>1</td>\n",
       "      <td>0</td>\n",
       "      <td>0</td>\n",
       "    </tr>\n",
       "  </tbody>\n",
       "</table>\n",
       "</div>"
      ],
      "text/plain": [
       "   report_id  Neither  No  Unknown  Yes\n",
       "0        944        0   1        0    0\n",
       "1       1199        0   1        0    0\n",
       "2        923        0   1        0    0\n",
       "3        908        0   0        0    1\n",
       "4        247        0   1        0    0"
      ]
     },
     "execution_count": 25,
     "metadata": {},
     "output_type": "execute_result"
    }
   ],
   "source": [
    "non_affected_df = multilabel_encoder(df, 'nonuser_affected')\n",
    "non_affected_df.head()"
   ]
  },
  {
   "cell_type": "code",
   "execution_count": 26,
   "metadata": {},
   "outputs": [
    {
     "data": {
      "text/plain": [
       "99"
      ]
     },
     "execution_count": 26,
     "metadata": {},
     "output_type": "execute_result"
    }
   ],
   "source": [
    "df['nonuser_affected'].isna().sum()"
   ]
  },
  {
   "cell_type": "markdown",
   "metadata": {
    "id": "Rk7TMv9FYpPK"
   },
   "source": [
    "## Health_problems_df"
   ]
  },
  {
   "cell_type": "code",
   "execution_count": 27,
   "metadata": {
    "colab": {
     "base_uri": "https://localhost:8080/",
     "height": 206
    },
    "id": "z8mmXcldYpPK",
    "outputId": "fb7b7f39-c3f0-4a62-c295-52a3dee61205"
   },
   "outputs": [
    {
     "data": {
      "text/html": [
       "<div>\n",
       "<style scoped>\n",
       "    .dataframe tbody tr th:only-of-type {\n",
       "        vertical-align: middle;\n",
       "    }\n",
       "\n",
       "    .dataframe tbody tr th {\n",
       "        vertical-align: top;\n",
       "    }\n",
       "\n",
       "    .dataframe thead th {\n",
       "        text-align: right;\n",
       "    }\n",
       "</style>\n",
       "<table border=\"1\" class=\"dataframe\">\n",
       "  <thead>\n",
       "    <tr style=\"text-align: right;\">\n",
       "      <th></th>\n",
       "      <th>report_id</th>\n",
       "      <th>cardiac_problem</th>\n",
       "      <th>digestive_problem</th>\n",
       "      <th>general_problem</th>\n",
       "      <th>neurological_problem</th>\n",
       "      <th>other</th>\n",
       "      <th>psychiatric_problem</th>\n",
       "      <th>respiratory_problem</th>\n",
       "      <th>skin_burn_problem</th>\n",
       "    </tr>\n",
       "  </thead>\n",
       "  <tbody>\n",
       "    <tr>\n",
       "      <th>0</th>\n",
       "      <td>944</td>\n",
       "      <td>0</td>\n",
       "      <td>0</td>\n",
       "      <td>1</td>\n",
       "      <td>0</td>\n",
       "      <td>1</td>\n",
       "      <td>0</td>\n",
       "      <td>0</td>\n",
       "      <td>0</td>\n",
       "    </tr>\n",
       "    <tr>\n",
       "      <th>1</th>\n",
       "      <td>1199</td>\n",
       "      <td>0</td>\n",
       "      <td>0</td>\n",
       "      <td>0</td>\n",
       "      <td>1</td>\n",
       "      <td>0</td>\n",
       "      <td>0</td>\n",
       "      <td>0</td>\n",
       "      <td>0</td>\n",
       "    </tr>\n",
       "    <tr>\n",
       "      <th>2</th>\n",
       "      <td>923</td>\n",
       "      <td>0</td>\n",
       "      <td>0</td>\n",
       "      <td>0</td>\n",
       "      <td>1</td>\n",
       "      <td>0</td>\n",
       "      <td>0</td>\n",
       "      <td>0</td>\n",
       "      <td>0</td>\n",
       "    </tr>\n",
       "    <tr>\n",
       "      <th>3</th>\n",
       "      <td>908</td>\n",
       "      <td>1</td>\n",
       "      <td>1</td>\n",
       "      <td>1</td>\n",
       "      <td>0</td>\n",
       "      <td>1</td>\n",
       "      <td>0</td>\n",
       "      <td>0</td>\n",
       "      <td>1</td>\n",
       "    </tr>\n",
       "    <tr>\n",
       "      <th>4</th>\n",
       "      <td>247</td>\n",
       "      <td>0</td>\n",
       "      <td>0</td>\n",
       "      <td>0</td>\n",
       "      <td>0</td>\n",
       "      <td>0</td>\n",
       "      <td>0</td>\n",
       "      <td>0</td>\n",
       "      <td>1</td>\n",
       "    </tr>\n",
       "  </tbody>\n",
       "</table>\n",
       "</div>"
      ],
      "text/plain": [
       "   report_id  cardiac_problem  digestive_problem  general_problem  \\\n",
       "0        944                0                  0                1   \n",
       "1       1199                0                  0                0   \n",
       "2        923                0                  0                0   \n",
       "3        908                1                  1                1   \n",
       "4        247                0                  0                0   \n",
       "\n",
       "   neurological_problem  other  psychiatric_problem  respiratory_problem  \\\n",
       "0                     0      1                    0                    0   \n",
       "1                     1      0                    0                    0   \n",
       "2                     1      0                    0                    0   \n",
       "3                     0      1                    0                    0   \n",
       "4                     0      0                    0                    0   \n",
       "\n",
       "   skin_burn_problem  \n",
       "0                  0  \n",
       "1                  0  \n",
       "2                  0  \n",
       "3                  1  \n",
       "4                  1  "
      ]
     },
     "execution_count": 27,
     "metadata": {},
     "output_type": "execute_result"
    }
   ],
   "source": [
    "health_problems_df = multilabel_encoder(df, 'reported_health_problems')\n",
    "health_problems_df.head()"
   ]
  },
  {
   "cell_type": "markdown",
   "metadata": {
    "id": "9YoXsWerYpPL"
   },
   "source": [
    "## Product_problems_df"
   ]
  },
  {
   "cell_type": "code",
   "execution_count": 28,
   "metadata": {
    "colab": {
     "base_uri": "https://localhost:8080/",
     "height": 206
    },
    "id": "dQ8Ts3akYpPL",
    "outputId": "75224186-243f-4be8-bcd0-3e24ca7fef5f"
   },
   "outputs": [
    {
     "data": {
      "text/html": [
       "<div>\n",
       "<style scoped>\n",
       "    .dataframe tbody tr th:only-of-type {\n",
       "        vertical-align: middle;\n",
       "    }\n",
       "\n",
       "    .dataframe tbody tr th {\n",
       "        vertical-align: top;\n",
       "    }\n",
       "\n",
       "    .dataframe thead th {\n",
       "        text-align: right;\n",
       "    }\n",
       "</style>\n",
       "<table border=\"1\" class=\"dataframe\">\n",
       "  <thead>\n",
       "    <tr style=\"text-align: right;\">\n",
       "      <th></th>\n",
       "      <th>report_id</th>\n",
       "      <th>damage</th>\n",
       "      <th>fire_explosion</th>\n",
       "      <th>foreign_material</th>\n",
       "      <th>hard_to_use</th>\n",
       "      <th>label_instruction</th>\n",
       "      <th>other</th>\n",
       "      <th>quantity</th>\n",
       "      <th>safety</th>\n",
       "      <th>smell_taste</th>\n",
       "    </tr>\n",
       "  </thead>\n",
       "  <tbody>\n",
       "    <tr>\n",
       "      <th>0</th>\n",
       "      <td>944</td>\n",
       "      <td>0</td>\n",
       "      <td>0</td>\n",
       "      <td>0</td>\n",
       "      <td>0</td>\n",
       "      <td>0</td>\n",
       "      <td>0</td>\n",
       "      <td>0</td>\n",
       "      <td>0</td>\n",
       "      <td>0</td>\n",
       "    </tr>\n",
       "    <tr>\n",
       "      <th>1</th>\n",
       "      <td>1199</td>\n",
       "      <td>0</td>\n",
       "      <td>0</td>\n",
       "      <td>0</td>\n",
       "      <td>0</td>\n",
       "      <td>0</td>\n",
       "      <td>0</td>\n",
       "      <td>0</td>\n",
       "      <td>0</td>\n",
       "      <td>0</td>\n",
       "    </tr>\n",
       "    <tr>\n",
       "      <th>2</th>\n",
       "      <td>923</td>\n",
       "      <td>0</td>\n",
       "      <td>0</td>\n",
       "      <td>0</td>\n",
       "      <td>0</td>\n",
       "      <td>0</td>\n",
       "      <td>0</td>\n",
       "      <td>0</td>\n",
       "      <td>0</td>\n",
       "      <td>0</td>\n",
       "    </tr>\n",
       "    <tr>\n",
       "      <th>3</th>\n",
       "      <td>908</td>\n",
       "      <td>0</td>\n",
       "      <td>0</td>\n",
       "      <td>0</td>\n",
       "      <td>0</td>\n",
       "      <td>0</td>\n",
       "      <td>0</td>\n",
       "      <td>0</td>\n",
       "      <td>0</td>\n",
       "      <td>0</td>\n",
       "    </tr>\n",
       "    <tr>\n",
       "      <th>4</th>\n",
       "      <td>247</td>\n",
       "      <td>0</td>\n",
       "      <td>1</td>\n",
       "      <td>0</td>\n",
       "      <td>0</td>\n",
       "      <td>0</td>\n",
       "      <td>0</td>\n",
       "      <td>0</td>\n",
       "      <td>0</td>\n",
       "      <td>0</td>\n",
       "    </tr>\n",
       "  </tbody>\n",
       "</table>\n",
       "</div>"
      ],
      "text/plain": [
       "   report_id  damage  fire_explosion  foreign_material  hard_to_use  \\\n",
       "0        944       0               0                 0            0   \n",
       "1       1199       0               0                 0            0   \n",
       "2        923       0               0                 0            0   \n",
       "3        908       0               0                 0            0   \n",
       "4        247       0               1                 0            0   \n",
       "\n",
       "   label_instruction  other  quantity  safety  smell_taste  \n",
       "0                  0      0         0       0            0  \n",
       "1                  0      0         0       0            0  \n",
       "2                  0      0         0       0            0  \n",
       "3                  0      0         0       0            0  \n",
       "4                  0      0         0       0            0  "
      ]
     },
     "execution_count": 28,
     "metadata": {},
     "output_type": "execute_result"
    }
   ],
   "source": [
    "product_problems_df = multilabel_encoder(df, 'reported_product_problems')\n",
    "product_problems_df.head()"
   ]
  },
  {
   "cell_type": "markdown",
   "metadata": {
    "id": "J8s9qI4mYpPN"
   },
   "source": [
    "## Tobacco_products_df"
   ]
  },
  {
   "cell_type": "code",
   "execution_count": 29,
   "metadata": {
    "colab": {
     "base_uri": "https://localhost:8080/",
     "height": 206
    },
    "id": "AVu3__zSYpPN",
    "outputId": "bdb45ee6-97bc-48b7-8143-8d31bb4d1e8b"
   },
   "outputs": [
    {
     "data": {
      "text/html": [
       "<div>\n",
       "<style scoped>\n",
       "    .dataframe tbody tr th:only-of-type {\n",
       "        vertical-align: middle;\n",
       "    }\n",
       "\n",
       "    .dataframe tbody tr th {\n",
       "        vertical-align: top;\n",
       "    }\n",
       "\n",
       "    .dataframe thead th {\n",
       "        text-align: right;\n",
       "    }\n",
       "</style>\n",
       "<table border=\"1\" class=\"dataframe\">\n",
       "  <thead>\n",
       "    <tr style=\"text-align: right;\">\n",
       "      <th></th>\n",
       "      <th>report_id</th>\n",
       "      <th>cigarette</th>\n",
       "      <th>electronic_cigarette</th>\n",
       "      <th>other</th>\n",
       "      <th>tobacco</th>\n",
       "    </tr>\n",
       "  </thead>\n",
       "  <tbody>\n",
       "    <tr>\n",
       "      <th>0</th>\n",
       "      <td>944</td>\n",
       "      <td>0</td>\n",
       "      <td>1</td>\n",
       "      <td>0</td>\n",
       "      <td>0</td>\n",
       "    </tr>\n",
       "    <tr>\n",
       "      <th>1</th>\n",
       "      <td>1199</td>\n",
       "      <td>0</td>\n",
       "      <td>1</td>\n",
       "      <td>0</td>\n",
       "      <td>0</td>\n",
       "    </tr>\n",
       "    <tr>\n",
       "      <th>2</th>\n",
       "      <td>923</td>\n",
       "      <td>0</td>\n",
       "      <td>1</td>\n",
       "      <td>0</td>\n",
       "      <td>0</td>\n",
       "    </tr>\n",
       "    <tr>\n",
       "      <th>3</th>\n",
       "      <td>908</td>\n",
       "      <td>0</td>\n",
       "      <td>1</td>\n",
       "      <td>0</td>\n",
       "      <td>0</td>\n",
       "    </tr>\n",
       "    <tr>\n",
       "      <th>4</th>\n",
       "      <td>247</td>\n",
       "      <td>0</td>\n",
       "      <td>1</td>\n",
       "      <td>0</td>\n",
       "      <td>0</td>\n",
       "    </tr>\n",
       "  </tbody>\n",
       "</table>\n",
       "</div>"
      ],
      "text/plain": [
       "   report_id  cigarette  electronic_cigarette  other  tobacco\n",
       "0        944          0                     1      0        0\n",
       "1       1199          0                     1      0        0\n",
       "2        923          0                     1      0        0\n",
       "3        908          0                     1      0        0\n",
       "4        247          0                     1      0        0"
      ]
     },
     "execution_count": 29,
     "metadata": {},
     "output_type": "execute_result"
    }
   ],
   "source": [
    "tobacco_products_df = multilabel_encoder(df, 'tobacco_products')\n",
    "tobacco_products_df.head()"
   ]
  },
  {
   "cell_type": "markdown",
   "metadata": {
    "id": "XS8N4nTPYpPN"
   },
   "source": [
    "## Transformed_df"
   ]
  },
  {
   "cell_type": "code",
   "execution_count": 30,
   "metadata": {
    "colab": {
     "base_uri": "https://localhost:8080/",
     "height": 424
    },
    "id": "1sRznXpkKhTW",
    "outputId": "656beda0-6f72-4a45-ca05-4a1f4abf9005"
   },
   "outputs": [
    {
     "data": {
      "text/html": [
       "<div>\n",
       "<style scoped>\n",
       "    .dataframe tbody tr th:only-of-type {\n",
       "        vertical-align: middle;\n",
       "    }\n",
       "\n",
       "    .dataframe tbody tr th {\n",
       "        vertical-align: top;\n",
       "    }\n",
       "\n",
       "    .dataframe thead th {\n",
       "        text-align: right;\n",
       "    }\n",
       "</style>\n",
       "<table border=\"1\" class=\"dataframe\">\n",
       "  <thead>\n",
       "    <tr style=\"text-align: right;\">\n",
       "      <th></th>\n",
       "      <th>date_submitted</th>\n",
       "      <th>number_tobacco_products</th>\n",
       "      <th>report_id</th>\n",
       "      <th>number_health_problems</th>\n",
       "      <th>number_product_problems</th>\n",
       "    </tr>\n",
       "  </thead>\n",
       "  <tbody>\n",
       "    <tr>\n",
       "      <th>0</th>\n",
       "      <td>2019-08-09</td>\n",
       "      <td>1</td>\n",
       "      <td>944</td>\n",
       "      <td>9</td>\n",
       "      <td>0</td>\n",
       "    </tr>\n",
       "    <tr>\n",
       "      <th>1</th>\n",
       "      <td>2019-08-09</td>\n",
       "      <td>1</td>\n",
       "      <td>1199</td>\n",
       "      <td>2</td>\n",
       "      <td>0</td>\n",
       "    </tr>\n",
       "    <tr>\n",
       "      <th>2</th>\n",
       "      <td>2019-08-08</td>\n",
       "      <td>1</td>\n",
       "      <td>923</td>\n",
       "      <td>1</td>\n",
       "      <td>0</td>\n",
       "    </tr>\n",
       "    <tr>\n",
       "      <th>3</th>\n",
       "      <td>2019-07-25</td>\n",
       "      <td>1</td>\n",
       "      <td>908</td>\n",
       "      <td>11</td>\n",
       "      <td>0</td>\n",
       "    </tr>\n",
       "    <tr>\n",
       "      <th>4</th>\n",
       "      <td>2017-01-22</td>\n",
       "      <td>1</td>\n",
       "      <td>247</td>\n",
       "      <td>1</td>\n",
       "      <td>1</td>\n",
       "    </tr>\n",
       "    <tr>\n",
       "      <th>...</th>\n",
       "      <td>...</td>\n",
       "      <td>...</td>\n",
       "      <td>...</td>\n",
       "      <td>...</td>\n",
       "      <td>...</td>\n",
       "    </tr>\n",
       "    <tr>\n",
       "      <th>995</th>\n",
       "      <td>2019-11-06</td>\n",
       "      <td>2</td>\n",
       "      <td>2076566</td>\n",
       "      <td>10</td>\n",
       "      <td>0</td>\n",
       "    </tr>\n",
       "    <tr>\n",
       "      <th>996</th>\n",
       "      <td>2017-04-20</td>\n",
       "      <td>1</td>\n",
       "      <td>321</td>\n",
       "      <td>0</td>\n",
       "      <td>2</td>\n",
       "    </tr>\n",
       "    <tr>\n",
       "      <th>997</th>\n",
       "      <td>2019-11-02</td>\n",
       "      <td>1</td>\n",
       "      <td>2076369</td>\n",
       "      <td>1</td>\n",
       "      <td>0</td>\n",
       "    </tr>\n",
       "    <tr>\n",
       "      <th>998</th>\n",
       "      <td>2017-04-25</td>\n",
       "      <td>1</td>\n",
       "      <td>322</td>\n",
       "      <td>0</td>\n",
       "      <td>2</td>\n",
       "    </tr>\n",
       "    <tr>\n",
       "      <th>999</th>\n",
       "      <td>2019-10-24</td>\n",
       "      <td>1</td>\n",
       "      <td>2075988</td>\n",
       "      <td>1</td>\n",
       "      <td>0</td>\n",
       "    </tr>\n",
       "  </tbody>\n",
       "</table>\n",
       "<p>1000 rows × 5 columns</p>\n",
       "</div>"
      ],
      "text/plain": [
       "    date_submitted  number_tobacco_products  report_id  \\\n",
       "0       2019-08-09                        1        944   \n",
       "1       2019-08-09                        1       1199   \n",
       "2       2019-08-08                        1        923   \n",
       "3       2019-07-25                        1        908   \n",
       "4       2017-01-22                        1        247   \n",
       "..             ...                      ...        ...   \n",
       "995     2019-11-06                        2    2076566   \n",
       "996     2017-04-20                        1        321   \n",
       "997     2019-11-02                        1    2076369   \n",
       "998     2017-04-25                        1        322   \n",
       "999     2019-10-24                        1    2075988   \n",
       "\n",
       "     number_health_problems  number_product_problems  \n",
       "0                         9                        0  \n",
       "1                         2                        0  \n",
       "2                         1                        0  \n",
       "3                        11                        0  \n",
       "4                         1                        1  \n",
       "..                      ...                      ...  \n",
       "995                      10                        0  \n",
       "996                       0                        2  \n",
       "997                       1                        0  \n",
       "998                       0                        2  \n",
       "999                       1                        0  \n",
       "\n",
       "[1000 rows x 5 columns]"
      ]
     },
     "execution_count": 30,
     "metadata": {},
     "output_type": "execute_result"
    }
   ],
   "source": [
    "trans_df = df.drop([\n",
    "    'nonuser_affected',\n",
    "    'reported_health_problems',\n",
    "    'reported_product_problems',\n",
    "    'tobacco_products'], axis=1)\n",
    "trans_df"
   ]
  },
  {
   "cell_type": "markdown",
   "metadata": {
    "id": "5Nw-Rsl4mSvB"
   },
   "source": [
    "# DATA CLEANING"
   ]
  },
  {
   "cell_type": "markdown",
   "metadata": {
    "id": "ty0WDNk9jm9M"
   },
   "source": [
    "###Duplicate removal"
   ]
  },
  {
   "cell_type": "code",
   "execution_count": 31,
   "metadata": {
    "colab": {
     "base_uri": "https://localhost:8080/"
    },
    "id": "B8EW8rRrYpPO",
    "outputId": "0588e218-d1a5-46ed-a148-5fa0f00d9085"
   },
   "outputs": [
    {
     "name": "stdout",
     "output_type": "stream",
     "text": [
      "Duplicates: 0\n"
     ]
    }
   ],
   "source": [
    "df_for_duplicates = df.drop(columns=['reported_health_problems', 'reported_product_problems', 'tobacco_products'])\n",
    "print(\"Duplicates:\", df_for_duplicates.duplicated().sum())\n",
    "df = df.drop_duplicates(subset=df_for_duplicates.columns)"
   ]
  },
  {
   "cell_type": "markdown",
   "metadata": {
    "id": "WSbuuY-1kzDP"
   },
   "source": [
    "###Missing Data"
   ]
  },
  {
   "cell_type": "code",
   "execution_count": 32,
   "metadata": {
    "colab": {
     "base_uri": "https://localhost:8080/",
     "height": 241
    },
    "id": "UXcTFqhskxKa",
    "outputId": "c275dbaa-9faa-4ce0-f6b1-73b48eb392d5"
   },
   "outputs": [
    {
     "data": {
      "text/plain": [
       "date_submitted             0\n",
       "number_tobacco_products    0\n",
       "report_id                  0\n",
       "number_health_problems     0\n",
       "number_product_problems    0\n",
       "dtype: int64"
      ]
     },
     "execution_count": 32,
     "metadata": {},
     "output_type": "execute_result"
    }
   ],
   "source": [
    "trans_df.isna().sum()"
   ]
  },
  {
   "cell_type": "markdown",
   "metadata": {
    "id": "0U0sGF7mlJQ7"
   },
   "source": [
    "###Outlier check"
   ]
  },
  {
   "cell_type": "code",
   "execution_count": 33,
   "metadata": {
    "colab": {
     "base_uri": "https://localhost:8080/"
    },
    "id": "Mq8ExjHhlH9N",
    "outputId": "b6689937-435c-4ad2-e6d7-ee90b8adb9af"
   },
   "outputs": [
    {
     "name": "stdout",
     "output_type": "stream",
     "text": [
      "number_health_problems: 153 outliers detected (using IQR)\n",
      "number_product_problems: 103 outliers detected (using IQR)\n"
     ]
    }
   ],
   "source": [
    "# Detect outliers (IQR method) in numerical fields\n",
    "for col in [\"number_health_problems\", \"number_product_problems\"]:\n",
    "    q1, q3 = df[col].quantile([0.25, 0.75])\n",
    "    iqr = q3 - q1\n",
    "    lower, upper = q1 - 1.5*iqr, q3 + 1.5*iqr\n",
    "    outliers = df[(df[col] < lower) | (df[col] > upper)]\n",
    "    print(f\"{col}: {outliers.shape[0]} outliers detected (using IQR)\")"
   ]
  },
  {
   "cell_type": "code",
   "execution_count": 34,
   "metadata": {
    "colab": {
     "base_uri": "https://localhost:8080/",
     "height": 507
    },
    "id": "nX0g34BCqkOH",
    "outputId": "be04cadb-449d-49aa-ee32-a2e567601c33"
   },
   "outputs": [
    {
     "data": {
      "image/png": "[encoded data removed]",
      "text/plain": [
       "<Figure size 1200x500 with 2 Axes>"
      ]
     },
     "metadata": {},
     "output_type": "display_data"
    }
   ],
   "source": [
    "num_cols = [\"number_health_problems\", \"number_product_problems\"]\n",
    "\n",
    "plt.figure(figsize=(12,5))\n",
    "for i, col in enumerate(num_cols, 1):\n",
    "    plt.subplot(1, 2, i)\n",
    "    sns.boxplot(x=df[col], color=\"skyblue\")\n",
    "    plt.title(f\"Before Outlier Treatment: {col}\")\n",
    "plt.tight_layout()\n",
    "plt.show()\n"
   ]
  },
  {
   "cell_type": "code",
   "execution_count": 35,
   "metadata": {
    "colab": {
     "base_uri": "https://localhost:8080/",
     "height": 507
    },
    "id": "hnMpoJtDYaNv",
    "outputId": "f57bb544-c779-45c5-b60c-61bae701eac6"
   },
   "outputs": [
    {
     "data": {
      "image/png": "[encoded data removed]",
      "text/plain": [
       "<Figure size 1200x500 with 2 Axes>"
      ]
     },
     "metadata": {},
     "output_type": "display_data"
    }
   ],
   "source": [
    "num_cols = [\"number_health_problems\", \"number_product_problems\"]\n",
    "\n",
    "plt.figure(figsize=(12, 5))\n",
    "for i, col in enumerate(num_cols, 1):\n",
    "    plt.subplot(1, 2, i)\n",
    "    sns.histplot(data=df, x=col, bins=30, kde=True, color=\"skyblue\")\n",
    "    plt.title(f\"Before Outlier Treatment: {col}\")\n",
    "plt.tight_layout()\n",
    "plt.show()\n"
   ]
  },
  {
   "cell_type": "code",
   "execution_count": null,
   "metadata": {},
   "outputs": [],
   "source": []
  },
  {
   "cell_type": "markdown",
   "metadata": {
    "id": "x-zo1CtFpO3v"
   },
   "source": [
    "###Outlier Treatment"
   ]
  },
  {
   "cell_type": "code",
   "execution_count": 36,
   "metadata": {
    "colab": {
     "base_uri": "https://localhost:8080/"
    },
    "id": "0p6myi5bpMpf",
    "outputId": "3f2ccc56-911e-430b-d964-34e4e03027c3"
   },
   "outputs": [
    {
     "name": "stdout",
     "output_type": "stream",
     "text": [
      "Cleaned numeric columns with winsorization applied.\n"
     ]
    }
   ],
   "source": [
    "# Winsorize: cap extreme values\n",
    "for col in [\"number_health_problems\", \"number_product_problems\"]:\n",
    "    q1, q3 = df[col].quantile([0.25, 0.75])\n",
    "    iqr = q3 - q1\n",
    "    lower, upper = q1 - 1.5*iqr, q3 + 1.5*iqr\n",
    "    df[col] = np.clip(df[col], lower, upper)\n",
    "\n",
    "print(\"Cleaned numeric columns with winsorization applied.\")"
   ]
  },
  {
   "cell_type": "code",
   "execution_count": 37,
   "metadata": {
    "colab": {
     "base_uri": "https://localhost:8080/",
     "height": 507
    },
    "id": "JY4d8SE_r4Hr",
    "outputId": "6d9624fd-0195-4c73-c0fa-b7973f210b1d"
   },
   "outputs": [
    {
     "data": {
      "image/png": "[encoded data removed]",
      "text/plain": [
       "<Figure size 1200x500 with 2 Axes>"
      ]
     },
     "metadata": {},
     "output_type": "display_data"
    }
   ],
   "source": [
    "plt.figure(figsize=(12,5))\n",
    "for i, col in enumerate(num_cols, 1):\n",
    "    plt.subplot(1, 2, i)\n",
    "    sns.boxplot(x=df[col], color=\"lightgreen\")\n",
    "    plt.title(f\"After Outlier Treatment: {col}\")\n",
    "plt.tight_layout()\n",
    "plt.show()"
   ]
  },
  {
   "cell_type": "code",
   "execution_count": 38,
   "metadata": {
    "colab": {
     "base_uri": "https://localhost:8080/",
     "height": 507
    },
    "id": "-hBSl19-YpXz",
    "outputId": "1a0acdc1-0174-4b15-b25c-453006bb6f9b"
   },
   "outputs": [
    {
     "data": {
      "image/png": "[encoded data removed]",
      "text/plain": [
       "<Figure size 1200x500 with 2 Axes>"
      ]
     },
     "metadata": {},
     "output_type": "display_data"
    }
   ],
   "source": [
    "plt.figure(figsize=(12, 5))\n",
    "for i, col in enumerate(num_cols, 1):\n",
    "    plt.subplot(1, 2, i)\n",
    "    sns.histplot(data=df, x=col, bins=30, kde=True, color=\"lightgreen\")\n",
    "    plt.title(f\"After Outlier Treatment: {col}\")\n",
    "plt.tight_layout()\n",
    "plt.show()\n"
   ]
  },
  {
   "cell_type": "markdown",
   "metadata": {
    "id": "N1GusU4iueDh"
   },
   "source": [
    "###Verifying"
   ]
  },
  {
   "cell_type": "markdown",
   "metadata": {
    "id": "0CWxGDnzunzY"
   },
   "source": [
    "### Missing values check"
   ]
  },
  {
   "cell_type": "code",
   "execution_count": 39,
   "metadata": {
    "colab": {
     "base_uri": "https://localhost:8080/",
     "height": 241
    },
    "id": "tLpj5Yiguj2W",
    "outputId": "15d43902-76eb-4ecf-8137-822d2b75e5b4"
   },
   "outputs": [
    {
     "data": {
      "text/plain": [
       "date_submitted             0\n",
       "number_tobacco_products    0\n",
       "report_id                  0\n",
       "number_health_problems     0\n",
       "number_product_problems    0\n",
       "dtype: int64"
      ]
     },
     "execution_count": 39,
     "metadata": {},
     "output_type": "execute_result"
    }
   ],
   "source": [
    "trans_df.isna().sum()"
   ]
  }
 ],
 "metadata": {
  "colab": {
   "provenance": []
  },
  "kernelspec": {
   "display_name": "Python 3 (ipykernel)",
   "language": "python",
   "name": "python3"
  },
  "language_info": {
   "codemirror_mode": {
    "name": "ipython",
    "version": 3
   },
   "file_extension": ".py",
   "mimetype": "text/x-python",
   "name": "python",
   "nbconvert_exporter": "python",
   "pygments_lexer": "ipython3",
   "version": "3.11.9"
  }
 },
 "nbformat": 4,
 "nbformat_minor": 1
}
